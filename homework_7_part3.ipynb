{
 "cells": [
  {
   "cell_type": "markdown",
   "id": "6bce3826-cc56-42e2-a4a4-914329115913",
   "metadata": {},
   "source": [
    "# Homework 7: Scraping part 3"
   ]
  },
  {
   "cell_type": "markdown",
   "id": "4990ed21-79f8-4e25-94b3-8834e1c235c6",
   "metadata": {},
   "source": [
    "## Part Three\n",
    "\n",
    "Scrape the list of third party drivers license locations from https://travel-id-documents.az.gov/authorized-third-party-driver-license-locations but include the link. Save as a CSV. Since it's more than just the text from the table, this requires actually using BeautifulSoup :(\n",
    "\n",
    "Tips:\n",
    "\n",
    "- You'll need user-agent headers for this one\n",
    "- In class we always did something like item.find('h2') or the like because there was only ever one h2 we wanted. In this case there are four <td> tags that you want the text from! You'll need to use .find_all and treat them like normal lists (\"give me the text from the first one,\" + \"give me the text from the second one\" etc etc)\n",
    "- It's okay to have columns you don't want or need! You can always remove them later"
   ]
  },
  {
   "cell_type": "code",
   "execution_count": 1,
   "id": "1d4d93bc-9ecf-4355-8db2-ae8e60d01257",
   "metadata": {},
   "outputs": [],
   "source": [
    "import pandas as pd\n",
    "import requests\n",
    "from bs4 import BeautifulSoup"
   ]
  },
  {
   "cell_type": "code",
   "execution_count": 2,
   "id": "303a7585-09f0-45d7-8e8f-61ea42336c61",
   "metadata": {},
   "outputs": [],
   "source": [
    "url = \"https://travel-id-documents.az.gov/authorized-third-party-driver-license-locations\"\n",
    "\n",
    "headers = {\n",
    "    \"User-Agent\": \"Mozilla/5.0 (Windows NT 10.0; Win64; x64) AppleWebKit/537.36 (KHTML, like Gecko) Chrome/123.0.0.0 Safari/537.36\"\n",
    "}\n",
    "\n",
    "response = requests.get(url, headers=headers)\n",
    "\n",
    "doc = BeautifulSoup(response.text)"
   ]
  },
  {
   "cell_type": "code",
   "execution_count": 3,
   "id": "1518f421-b394-4e94-8c28-8e1b3b475eac",
   "metadata": {},
   "outputs": [],
   "source": [
    "items = doc.find(class_=\"table\")"
   ]
  },
  {
   "cell_type": "code",
   "execution_count": 4,
   "id": "d87c1c81-be62-4f86-9346-0374f1c71615",
   "metadata": {},
   "outputs": [
    {
     "data": {
      "text/plain": [
       "2"
      ]
     },
     "execution_count": 4,
     "metadata": {},
     "output_type": "execute_result"
    }
   ],
   "source": [
    "len(items)"
   ]
  },
  {
   "cell_type": "code",
   "execution_count": 5,
   "id": "a9161a8e-88b7-4a0c-ae2c-bb380ca5debd",
   "metadata": {},
   "outputs": [
    {
     "data": {
      "text/plain": [
       "[<td><strong>Company</strong></td>,\n",
       " <td><strong>Address</strong></td>,\n",
       " <td><strong>Telephone</strong></td>,\n",
       " <td><strong>Hours</strong></td>]"
      ]
     },
     "execution_count": 5,
     "metadata": {},
     "output_type": "execute_result"
    }
   ],
   "source": [
    "items.find(\"thead\").find(\"tr\").find_all(\"td\")"
   ]
  },
  {
   "cell_type": "code",
   "execution_count": 6,
   "id": "ad90b5ed-a908-4113-b49a-64f6b6a5a91a",
   "metadata": {},
   "outputs": [
    {
     "data": {
      "text/plain": [
       "['Company', 'Address', 'Telephone', 'Hours']"
      ]
     },
     "execution_count": 6,
     "metadata": {},
     "output_type": "execute_result"
    }
   ],
   "source": [
    "headers = []\n",
    "for item in items.find(\"thead\").find(\"tr\").find_all(\"td\"):\n",
    "    header = item.get_text()\n",
    "    headers.append(header)\n",
    "\n",
    "headers"
   ]
  },
  {
   "cell_type": "code",
   "execution_count": 7,
   "id": "bfb6505e-198a-412b-bf20-6f26237d8b01",
   "metadata": {},
   "outputs": [
    {
     "data": {
      "text/plain": [
       "40"
      ]
     },
     "execution_count": 7,
     "metadata": {},
     "output_type": "execute_result"
    }
   ],
   "source": [
    "body = items.find(\"tbody\").find_all(\"tr\")\n",
    "len(body)"
   ]
  },
  {
   "cell_type": "code",
   "execution_count": 8,
   "id": "74f4cfdc-801c-4519-9660-a4d7afdcd195",
   "metadata": {},
   "outputs": [
    {
     "data": {
      "text/plain": [
       "[<tr><td><a href=\"http://az-mvd.com/\" target=\"_blank\">1 Stop Title &amp; Registration Services</a></td>\n",
       " <td>940 N. Alma School Rd., #104<br/>\n",
       " \t\t\tChandler, AZ 85224</td>\n",
       " <td>480.821.3288</td>\n",
       " <td>Mon.-Fri. 8:00 a.m.-6:00 p.m. Sat. 9:00 a.m.-4:30 p.m.</td>\n",
       " </tr>,\n",
       " <tr><td><a href=\"http://az-mvd.com/\" target=\"_blank\">1 Stop Title &amp; Registration Services</a></td>\n",
       " <td>5036 W. Cactus Rd., Ste. 2<br/>\n",
       " \t\t\tGlendale, AZ 85304</td>\n",
       " <td>602.264.2400</td>\n",
       " <td>Mon.-Fri. 8:00 a.m.-6:00 p.m. Sat. 8:30 a.m.-4:30 p.m.</td>\n",
       " </tr>,\n",
       " <tr><td>Academy of Driving Motor Vehicle Center</td>\n",
       " <td>4733 E. Broadway Blvd.<br/>\n",
       " \t\t\tTucson, AZ 85711</td>\n",
       " <td>520.750.7572</td>\n",
       " <td>Mon.-Fri. 9 a.m.-5 p.m. and Sat. 9 a.m.-3 p.m.</td>\n",
       " </tr>,\n",
       " <tr><td>Arizona Auto License</td>\n",
       " <td>1337 W. Prince Rd<br/>\n",
       " \t\t\tTucson, AZ 85705</td>\n",
       " <td>520.696.2023</td>\n",
       " <td>Driver License Hours: <br/>\n",
       " \t\t\tMon.-Fri. 9 a.m.-5 p.m.<br/>\n",
       " \t\t\tSat by Appt. Only</td>\n",
       " </tr>,\n",
       " <tr><td>Arizona Auto License Service LLC</td>\n",
       " <td>1457 N. Eliseo C Felix Jr.<br/>\n",
       " \t\t\tWay, Ste. 105 and 106<br/>\n",
       " \t\t\tAvondale, AZ 85323</td>\n",
       " <td>623.925.5455 or Fax 623.925.5879</td>\n",
       " <td>Mon.-Fri. 8 a.m.-5 p.m. </td>\n",
       " </tr>,\n",
       " <tr><td>Arizona Auto License Service LLC</td>\n",
       " <td>5130 W Baseline Rd.<br/>\n",
       " \t\t\tSte. 105<br/>\n",
       " \t\t\tLaveen, AZ 85339</td>\n",
       " <td>602.334.1700<br/>\n",
       " \t\t\tor Fax 602.272.2480</td>\n",
       " <td>Mon.-Sat. 8 a.m.-5 p.m. </td>\n",
       " </tr>,\n",
       " <tr><td>Arizona Loan Solutions Motor Vehicle Center</td>\n",
       " <td>4401 N. Hwy. 89 <br/>\n",
       " \t\t\tSuite 1<br/>\n",
       " \t\t\tFlagstaff, AZ 86004</td>\n",
       " <td>928.527.3215<br/>\n",
       " \t\t\tor Fax<br/>\n",
       " \t\t\t928.526.1895</td>\n",
       " <td>Mon.-Fri. 9 a.m.-5 p.m. and<br/>\n",
       " \t\t\tSat. 10 a.m.-2 p.m.</td>\n",
       " </tr>,\n",
       " <tr><td><a href=\"http://azmotorexpress.com/home/4972190\" target=\"_blank\">Arizona Motor Vehicle Express LLC</a></td>\n",
       " <td>6741 N Thornydale #147 <br/>\n",
       " \t\t\tTucson, AZ 85741</td>\n",
       " <td>520.219.8852</td>\n",
       " <td>Driver License Hours:<br/>\n",
       " \t\t\tM-F 9:00 a.m.-5:30 p.m.<br/>\n",
       " \t\t\tSat 9:00 a.m.-3:00 p.m.</td>\n",
       " </tr>,\n",
       " <tr><td>Arizona State Express Title &amp; Registration</td>\n",
       " <td>20924 N. John Wayne Parkway Ste. D1 <br/>\n",
       " \t\t\tMaricopa, AZ 85139</td>\n",
       " <td>520.568.9299</td>\n",
       " <td>Driver License Hours: <br/>\n",
       " \t\t\tM-F 9:00 a.m.- 5:00 p.m. <br/>\n",
       " \t\t\tClosed Sat-Sun</td>\n",
       " </tr>,\n",
       " <tr><td>Arizona Tags &amp; Title Inc.</td>\n",
       " <td>8307 E. State Route 69<br/>\n",
       " \t\t\tSuite A<br/>\n",
       " \t\t\tPrescott Valley, AZ 86314</td>\n",
       " <td>928.759.9700 or Fax 928.772.5283</td>\n",
       " <td>Mon.-Fri. 10 a.m.-2 p.m.</td>\n",
       " </tr>,\n",
       " <tr><td><a href=\"http://www.getbestbuyinsurance.com/phoenix-auto-insurance/\" target=\"_blank\">Best Buy Title Services</a><br/>\n",
       " \t\t\t </td>\n",
       " <td>5146 W. McDowell Rd.<br/>\n",
       " \t\t\tPhoenix, AZ 85035</td>\n",
       " <td>602.272.5441<br/>\n",
       " \t\t\tor Fax<br/>\n",
       " \t\t\t602.272.0116</td>\n",
       " <td>Mon.-Fri. 9 a.m.-4 p.m. and Sat. 9 a.m.-2 p.m.</td>\n",
       " </tr>,\n",
       " <tr><td>C &amp; C Auto License<br/>\n",
       " \t\t\t </td>\n",
       " <td>12450 N 35th Ave Ste. 15<br/>\n",
       " \t\t\tPhoenix, AZ 85029</td>\n",
       " <td>602.298.1900</td>\n",
       " <td>Driver License Hours: <br/>\n",
       " \t\t\tM-F 9:00 a.m. – 5:30 p.m.<br/>\n",
       " \t\t\tSat 9:00 a.m.-2:00 p.m.</td>\n",
       " </tr>,\n",
       " <tr><td>Check Changers of Arizona LLC<br/>\n",
       " \t\t\t </td>\n",
       " <td>250 N. 43rd Ave Ste #104<br/>\n",
       " \t\t\tPhoenix, AZ 85009</td>\n",
       " <td>602.443.0268<br/>\n",
       " \t\t\tor Fax<br/>\n",
       " \t\t\t602.443.0279</td>\n",
       " <td>Mon.-Fri. 8 a.m.-6 p.m. and Sat. 9 a.m.-4 p.m.</td>\n",
       " </tr>,\n",
       " <tr><td><a href=\"http://footework.com/\" target=\"_blank\">FooteWork Auto License &amp; Title Service</a></td>\n",
       " <td>201 Grove Ave<br/>\n",
       " \t\t\tPrescott, AZ 86301</td>\n",
       " <td>928.771.9015<br/>\n",
       " \t\t\tor<br/>\n",
       " \t\t\t928.771.1457</td>\n",
       " <td>Mon.-Fri. 8 a.m.-4:30 p.m.</td>\n",
       " </tr>,\n",
       " <tr><td><a href=\"http://footework.com/\" target=\"_blank\">FooteWork Auto License &amp; Title Service</a><br/>\n",
       " \t\t\t </td>\n",
       " <td>6520 E. 2nd St.<br/>\n",
       " \t\t\tPrescott Valley, AZ 86314</td>\n",
       " <td>928.759.8575</td>\n",
       " <td>Mon.-Fri. 8 a.m.-4:30 p.m</td>\n",
       " </tr>,\n",
       " <tr><td><a href=\"http://www.ggandd.com/\" target=\"_blank\">GG &amp; D Motor Vehicle Services LLC</a></td>\n",
       " <td>1120 S. Country Club Dr.<br/>\n",
       " \t\t\tMesa, AZ 85210</td>\n",
       " <td>480.889.6076</td>\n",
       " <td>Mon.-Sat. 9 a.m.-6 p.m.</td>\n",
       " </tr>,\n",
       " <tr><td><a href=\"http://www.ggandd.com/\" target=\"_blank\">GG &amp; D Motor Vehicle Services LLC</a></td>\n",
       " <td>1625 E. Indian School Rd.<br/>\n",
       " \t\t\tPhoenix, AZ 85016</td>\n",
       " <td>602.374.4630<br/>\n",
       " \t\t\tor fax<br/>\n",
       " \t\t\t602.374.8262</td>\n",
       " <td>Title and Registration Hours:<br/>\n",
       " \t\t\tMon.-Sat. 8 a.m.-9 p.m.<br/>\n",
       " \t\t\tSun. 9 a.m.-6 p.m.<br/>\n",
       " \t\t\tDriver License Hours:<br/>\n",
       " \t\t\tMon.-Sat. 9 a.m.-6 p.m.</td>\n",
       " </tr>,\n",
       " <tr><td><a href=\"http://www.ggandd.com/\" target=\"_blank\">GG &amp; D Motor Vehicle Services LLC</a></td>\n",
       " <td>6601 W. Indian School Rd.<br/>\n",
       " \t\t\tSuite 20<br/>\n",
       " \t\t\tPhoenix, AZ 85033</td>\n",
       " <td>623.247.1943</td>\n",
       " <td>Mon.-Sat. 9 a.m.-6 p.m.</td>\n",
       " </tr>,\n",
       " <tr><td><a href=\"http://www.ggandd.com/\" target=\"_blank\">GG &amp; D Motor Vehicle Services LLC</a></td>\n",
       " <td>1170 E. Van Buren St.<br/>\n",
       " \t\t\tPhoenix, AZ 85006</td>\n",
       " <td>602.254.5401</td>\n",
       " <td>Mon.-Sat. 9 a.m.-6 p.m.</td>\n",
       " </tr>,\n",
       " <tr><td><a href=\"http://www.ggandd.com/\" target=\"_blank\">GG &amp; D Motor Vehicle Services LLC</a></td>\n",
       " <td>2302 E. Bell Rd.<br/>\n",
       " \t\t\tPhoenix, AZ 85022</td>\n",
       " <td>602.889.4180</td>\n",
       " <td>Mon.-Sat. 9 a.m.-6 p.m.</td>\n",
       " </tr>,\n",
       " <tr><td><a href=\"http://www.ggandd.com/\" target=\"_blank\">GG &amp; D Motor Vehicle Services LLC</a></td>\n",
       " <td>7207 S. Central Ave.<br/>\n",
       " \t\t\tPhoenix, AZ 85042</td>\n",
       " <td>602.889.7096</td>\n",
       " <td>Mon.-Sat. 9 a.m.-6 p.m.</td>\n",
       " </tr>,\n",
       " <tr><td><a href=\"http://www.ggandd.com/\" target=\"_blank\">GG &amp; D Motor Vehicle Services LLC</a></td>\n",
       " <td>4307 W. Glendale Ave.<br/>\n",
       " \t\t\tGlendale, AZ 85301</td>\n",
       " <td>623.512.4645</td>\n",
       " <td>Mon.-Sat. 9 a.m.-6 p.m.</td>\n",
       " </tr>,\n",
       " <tr><td>\n",
       " <p><a href=\"https://www.manta.com/c/mr033y7/ge-financial-center-llc\">GE Financial Center LLC. DBA Third Party T&amp;R Services</a></p>\n",
       " </td>\n",
       " <td>999 E. Fry Blvd.<br/>\n",
       " \t\t\tSuite 202<br/>\n",
       " \t\t\tSierra Vista, AZ 85635</td>\n",
       " <td>520.459.2434</td>\n",
       " <td>Mon.-Fri. 9 a.m.-5:30 p.m.</td>\n",
       " </tr>,\n",
       " <tr><td>Ginger's Auto Title Service</td>\n",
       " <td>999 E. Fry Blvd.<br/>\n",
       " \t\t\tSuite 202<br/>\n",
       " \t\t\tSierra Vista, AZ 85635</td>\n",
       " <td>520.459.2434</td>\n",
       " <td>Mon.-Fri. 9 a.m.-5:30 p.m.</td>\n",
       " </tr>,\n",
       " <tr><td>L &amp; J Motor Vehicle Services</td>\n",
       " <td>14770 N. 78th Way<br/>\n",
       " \t\t\tBuilding A<br/>\n",
       " \t\t\tScottsdale, AZ 85260</td>\n",
       " <td>480.368.9933</td>\n",
       " <td>Mon.-Fri. 8 a.m.-5 p.m.</td>\n",
       " </tr>,\n",
       " <tr><td>Montes Multiple Services LLC</td>\n",
       " <td>3080 S. Pacific Avenue<br/>\n",
       " \t\t\tYuma, AZ 85364</td>\n",
       " <td>928.344.4002</td>\n",
       " <td>Mon.-Fri. 9 a.m.-4:30 p.m. and Sat. 9 a.m.-12 p.m.</td>\n",
       " </tr>,\n",
       " <tr><td>Montes Multiple Services LLC</td>\n",
       " <td>11274 S Fortuna Rd.<br/>\n",
       " \t\t\tSuite D-1<br/>\n",
       " \t\t\tYuma, AZ 85367</td>\n",
       " <td>928.627.8648</td>\n",
       " <td>Mon.-Fri. 9 a.m.-4:30 p.m. and Sat. 9 a.m.-12 p.m.</td>\n",
       " </tr>,\n",
       " <tr><td>Motor Vehicle Services of Buckeye</td>\n",
       " <td>410 E. MC85 Suite A<br/>\n",
       " \t\t\tBuckeye, AZ 85326</td>\n",
       " <td>623.386.7741</td>\n",
       " <td>Mon.-Fri. 9 a.m.-6 p.m.</td>\n",
       " </tr>,\n",
       " <tr><td>MVP</td>\n",
       " <td>553 W. Fourth St.<br/>\n",
       " \t\t\tBenson, AZ 85602</td>\n",
       " <td>520.586.1113</td>\n",
       " <td>Mon.-Fri. 8 a.m.-5 p.m.</td>\n",
       " </tr>,\n",
       " <tr><td>MVP</td>\n",
       " <td>132 A W. Maley<br/>\n",
       " \t\t\tWillcox, AZ 85643</td>\n",
       " <td>520.766.4718</td>\n",
       " <td>Mon.-Fri. 8 a.m.-5 p.m.</td>\n",
       " </tr>,\n",
       " <tr><td><a href=\"http://www.mvstagsandtitle.com/\">MVS Tags and Title LLC</a></td>\n",
       " <td>11518 E. Apache Trail <br/>\n",
       " \t\t\t#124<br/>\n",
       " \t\t\tApache Junction, AZ 85120</td>\n",
       " <td>480.373.8247</td>\n",
       " <td>Mon.-Fri. 8 a.m.-6 p.m. and Sat. 8 a.m.-4 p.m.</td>\n",
       " </tr>,\n",
       " <tr><td><a href=\"https://www.powertagstitlesandmore.net/\" target=\"_blank\">Power Tags Titles and More, LLC</a></td>\n",
       " <td>3125 W. Hunt Hwy.<br/>\n",
       " \t\t\t#104<br/>\n",
       " \t\t\tQueen Creek, AZ 85142</td>\n",
       " <td>480.677.3132<br/>\n",
       " \t\t\t(processors ext. 1)</td>\n",
       " <td>Mon.-Fri. 9 a.m.-4 p.m. and Sat. 9 a.m.-1 p.m.</td>\n",
       " </tr>,\n",
       " <tr><td>RL Jones Insurance Services, Inc.</td>\n",
       " <td>800 N. Main St.<br/>\n",
       " \t\t\tSan Luis, AZ 85349</td>\n",
       " <td>928.627.7404</td>\n",
       " <td>Mon.-Fri. 8 a.m.-5 p.m.</td>\n",
       " </tr>,\n",
       " <tr><td>Southwest Motor Vehicle Center</td>\n",
       " <td>7930 E. Speedway Blvd.<br/>\n",
       " \t\t\t#100<br/>\n",
       " \t\t\tTucson, AZ 85710</td>\n",
       " <td>520.722.2006</td>\n",
       " <td>Tues.-Fri. 9 a.m.-4 p.m. and Sat. 9 a.m.-12 p.m.</td>\n",
       " </tr>,\n",
       " <tr><td>Third Party MVS Services, Inc.</td>\n",
       " <td>1728 S. Greenfield Rd.<br/>\n",
       " \t\t\tMesa, AZ 85206</td>\n",
       " <td>480.621.3000</td>\n",
       " <td>Mon.-Sat. 8 a.m.-7 p.m.</td>\n",
       " </tr>,\n",
       " <tr><td>Third Party MVS Services, Inc.</td>\n",
       " <td>1801 E. Main St.<br/>\n",
       " \t\t\tMesa, AZ 85203</td>\n",
       " <td>480.833.1557</td>\n",
       " <td>Mon.-Sat. 8 a.m.-7 p.m.</td>\n",
       " </tr>,\n",
       " <tr><td>Third Party MVS Services, Inc.</td>\n",
       " <td>2055 N. Alma School Rd., #18.<br/>\n",
       " \t\t\tChandler, AZ 85224</td>\n",
       " <td>480.621.4944</td>\n",
       " <td>Mon.-Sat. 8 a.m.-7 p.m.</td>\n",
       " </tr>,\n",
       " <tr><td>TSI Title &amp; Registration Services, Inc.</td>\n",
       " <td>1900 W. Germann Rd.,<br/>\n",
       " \t\t\tSte. 9, Chandler, AZ 85286 </td>\n",
       " <td>480.855.1638</td>\n",
       " <td>Mon.-Fri. 9 a.m.-4:30 p.m.<br/>\n",
       " \t\t\tSat. 9:30 a.m.-3:30 p.m.</td>\n",
       " </tr>,\n",
       " <tr><td>Western Motor Vehicle</td>\n",
       " <td>6025 N. 27th Ave. #1<br/>\n",
       " \t\t\tPhoenix, AZ 85017</td>\n",
       " <td>602.246.2333 or 602.266.5250</td>\n",
       " <td>Mon.-Fri. 7 a.m.-6 p.m. and Sat. 8 a.m.-3 p.m.</td>\n",
       " </tr>,\n",
       " <tr><td>West Valley Motor Vehicle Title Express LLC</td>\n",
       " <td>12801 W. Bell Rd. Ste. #113<br/>\n",
       " \t\t\tSurprise, AZ 85379</td>\n",
       " <td>623.977.0929 or fax 623.977.4006</td>\n",
       " <td>Mon.-Fri. 9 a.m.-5 p.m.</td>\n",
       " </tr>]"
      ]
     },
     "execution_count": 8,
     "metadata": {},
     "output_type": "execute_result"
    }
   ],
   "source": [
    "body"
   ]
  },
  {
   "cell_type": "code",
   "execution_count": 9,
   "id": "af4c8161-2a62-4c08-9b89-8f6e2d6e543e",
   "metadata": {},
   "outputs": [
    {
     "data": {
      "text/plain": [
       "40"
      ]
     },
     "execution_count": 9,
     "metadata": {},
     "output_type": "execute_result"
    }
   ],
   "source": [
    "data = []\n",
    "\n",
    "for row in body:\n",
    "    cells = (row.find_all(\"td\"))\n",
    "    line = {}\n",
    "    line[\"company\"] = cells[0].get_text(strip=True)\n",
    "    try:\n",
    "        line[\"url\"] = cells[0].find(\"a\").get(\"href\")\n",
    "    except:\n",
    "        pass\n",
    "    line[\"address\"] = cells[1].get_text(strip=True)\n",
    "    line[\"telephone\"] = cells[2].get_text(strip=True)\n",
    "    line[\"hours\"] = cells[3].get_text(strip=True)\n",
    "    \n",
    "    data.append(line)\n",
    "\n",
    "len(data)    "
   ]
  },
  {
   "cell_type": "code",
   "execution_count": 10,
   "id": "df645ca6-1ead-438b-b2c9-727db6db8e14",
   "metadata": {},
   "outputs": [
    {
     "data": {
      "text/plain": [
       "{'company': '1 Stop Title & Registration Services',\n",
       " 'url': 'http://az-mvd.com/',\n",
       " 'address': '940 N. Alma School Rd., #104Chandler, AZ 85224',\n",
       " 'telephone': '480.821.3288',\n",
       " 'hours': 'Mon.-Fri. 8:00 a.m.-6:00 p.m. Sat.\\xa09:00 a.m.-4:30 p.m.'}"
      ]
     },
     "execution_count": 10,
     "metadata": {},
     "output_type": "execute_result"
    }
   ],
   "source": [
    "data[0]"
   ]
  },
  {
   "cell_type": "code",
   "execution_count": 11,
   "id": "b2bd7ce5-2593-41db-b937-1edff04647d4",
   "metadata": {},
   "outputs": [],
   "source": [
    "df = pd.json_normalize(data)"
   ]
  },
  {
   "cell_type": "code",
   "execution_count": 12,
   "id": "a8e5495a-784c-443b-a458-7f4a30356e89",
   "metadata": {},
   "outputs": [
    {
     "data": {
      "text/html": [
       "<div>\n",
       "<style scoped>\n",
       "    .dataframe tbody tr th:only-of-type {\n",
       "        vertical-align: middle;\n",
       "    }\n",
       "\n",
       "    .dataframe tbody tr th {\n",
       "        vertical-align: top;\n",
       "    }\n",
       "\n",
       "    .dataframe thead th {\n",
       "        text-align: right;\n",
       "    }\n",
       "</style>\n",
       "<table border=\"1\" class=\"dataframe\">\n",
       "  <thead>\n",
       "    <tr style=\"text-align: right;\">\n",
       "      <th></th>\n",
       "      <th>company</th>\n",
       "      <th>url</th>\n",
       "      <th>address</th>\n",
       "      <th>telephone</th>\n",
       "      <th>hours</th>\n",
       "    </tr>\n",
       "  </thead>\n",
       "  <tbody>\n",
       "    <tr>\n",
       "      <th>0</th>\n",
       "      <td>1 Stop Title &amp; Registration Services</td>\n",
       "      <td>http://az-mvd.com/</td>\n",
       "      <td>940 N. Alma School Rd., #104Chandler, AZ 85224</td>\n",
       "      <td>480.821.3288</td>\n",
       "      <td>Mon.-Fri. 8:00 a.m.-6:00 p.m. Sat. 9:00 a.m.-4...</td>\n",
       "    </tr>\n",
       "    <tr>\n",
       "      <th>1</th>\n",
       "      <td>1 Stop Title &amp; Registration Services</td>\n",
       "      <td>http://az-mvd.com/</td>\n",
       "      <td>5036 W. Cactus Rd., Ste. 2Glendale, AZ 85304</td>\n",
       "      <td>602.264.2400</td>\n",
       "      <td>Mon.-Fri. 8:00 a.m.-6:00 p.m. Sat. 8:30 a.m.-4...</td>\n",
       "    </tr>\n",
       "    <tr>\n",
       "      <th>2</th>\n",
       "      <td>Academy of Driving Motor Vehicle Center</td>\n",
       "      <td>NaN</td>\n",
       "      <td>4733 E. Broadway Blvd.Tucson, AZ 85711</td>\n",
       "      <td>520.750.7572</td>\n",
       "      <td>Mon.-Fri. 9 a.m.-5 p.m. and Sat. 9 a.m.-3 p.m.</td>\n",
       "    </tr>\n",
       "    <tr>\n",
       "      <th>3</th>\n",
       "      <td>Arizona Auto License</td>\n",
       "      <td>NaN</td>\n",
       "      <td>1337 W. Prince RdTucson, AZ 85705</td>\n",
       "      <td>520.696.2023</td>\n",
       "      <td>Driver License Hours:Mon.-Fri. 9 a.m.-5 p.m.Sa...</td>\n",
       "    </tr>\n",
       "    <tr>\n",
       "      <th>4</th>\n",
       "      <td>Arizona Auto License Service LLC</td>\n",
       "      <td>NaN</td>\n",
       "      <td>1457 N. Eliseo C Felix Jr.Way, Ste. 105 and 10...</td>\n",
       "      <td>623.925.5455 or Fax 623.925.5879</td>\n",
       "      <td>Mon.-Fri. 8 a.m.-5 p.m.</td>\n",
       "    </tr>\n",
       "  </tbody>\n",
       "</table>\n",
       "</div>"
      ],
      "text/plain": [
       "                                   company                 url  \\\n",
       "0     1 Stop Title & Registration Services  http://az-mvd.com/   \n",
       "1     1 Stop Title & Registration Services  http://az-mvd.com/   \n",
       "2  Academy of Driving Motor Vehicle Center                 NaN   \n",
       "3                     Arizona Auto License                 NaN   \n",
       "4         Arizona Auto License Service LLC                 NaN   \n",
       "\n",
       "                                             address  \\\n",
       "0     940 N. Alma School Rd., #104Chandler, AZ 85224   \n",
       "1       5036 W. Cactus Rd., Ste. 2Glendale, AZ 85304   \n",
       "2             4733 E. Broadway Blvd.Tucson, AZ 85711   \n",
       "3                  1337 W. Prince RdTucson, AZ 85705   \n",
       "4  1457 N. Eliseo C Felix Jr.Way, Ste. 105 and 10...   \n",
       "\n",
       "                          telephone  \\\n",
       "0                      480.821.3288   \n",
       "1                      602.264.2400   \n",
       "2                      520.750.7572   \n",
       "3                      520.696.2023   \n",
       "4  623.925.5455 or Fax 623.925.5879   \n",
       "\n",
       "                                               hours  \n",
       "0  Mon.-Fri. 8:00 a.m.-6:00 p.m. Sat. 9:00 a.m.-4...  \n",
       "1  Mon.-Fri. 8:00 a.m.-6:00 p.m. Sat. 8:30 a.m.-4...  \n",
       "2     Mon.-Fri. 9 a.m.-5 p.m. and Sat. 9 a.m.-3 p.m.  \n",
       "3  Driver License Hours:Mon.-Fri. 9 a.m.-5 p.m.Sa...  \n",
       "4                            Mon.-Fri. 8 a.m.-5 p.m.  "
      ]
     },
     "execution_count": 12,
     "metadata": {},
     "output_type": "execute_result"
    }
   ],
   "source": [
    "df.head()"
   ]
  },
  {
   "cell_type": "code",
   "execution_count": 13,
   "id": "ffa5f940-a60a-496e-8dd2-cf160f52d509",
   "metadata": {},
   "outputs": [],
   "source": [
    "df.to_csv(\"arizona_transportation.csv\")"
   ]
  },
  {
   "cell_type": "code",
   "execution_count": null,
   "id": "539b62c6-9f71-4831-ba46-d1f6c399be0b",
   "metadata": {},
   "outputs": [],
   "source": []
  }
 ],
 "metadata": {
  "kernelspec": {
   "display_name": "Python 3 (ipykernel)",
   "language": "python",
   "name": "python3"
  },
  "language_info": {
   "codemirror_mode": {
    "name": "ipython",
    "version": 3
   },
   "file_extension": ".py",
   "mimetype": "text/x-python",
   "name": "python",
   "nbconvert_exporter": "python",
   "pygments_lexer": "ipython3",
   "version": "3.12.10"
  }
 },
 "nbformat": 4,
 "nbformat_minor": 5
}
