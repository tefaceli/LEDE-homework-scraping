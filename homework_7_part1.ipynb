{
 "cells": [
  {
   "cell_type": "markdown",
   "id": "09ba0855-44c6-44a8-aa3e-6a2abda83ccf",
   "metadata": {},
   "source": [
    "# Homework 7: Scraping part 1"
   ]
  },
  {
   "cell_type": "markdown",
   "id": "a55700e9-a2ca-41a8-af9a-292b4dd649d8",
   "metadata": {},
   "source": [
    "## Part One\n",
    "\n",
    "Scrape the list of US presidents from https://en.wikipedia.org/wiki/List_of_presidents_of_the_United_States using pandas and save them as a CSV."
   ]
  },
  {
   "cell_type": "code",
   "execution_count": 1,
   "id": "8834f435-337f-45ab-8f4c-c249500d96d8",
   "metadata": {},
   "outputs": [],
   "source": [
    "import pandas as pd"
   ]
  },
  {
   "cell_type": "code",
   "execution_count": 2,
   "id": "53e79a5e-ea1e-4117-bebb-c386361b4535",
   "metadata": {},
   "outputs": [],
   "source": [
    "url = \"https://en.wikipedia.org/wiki/List_of_presidents_of_the_United_States\"\n",
    "\n",
    "df = pd.read_html(url)"
   ]
  },
  {
   "cell_type": "code",
   "execution_count": 3,
   "id": "a028a2a3-6067-42ac-8ac0-d16e58a23eb4",
   "metadata": {},
   "outputs": [
    {
     "name": "stdout",
     "output_type": "stream",
     "text": [
      "6\n"
     ]
    }
   ],
   "source": [
    "print(len(df))"
   ]
  },
  {
   "cell_type": "code",
   "execution_count": 4,
   "id": "be866a4e-de0d-4373-b39d-cfe32e43bde5",
   "metadata": {},
   "outputs": [
    {
     "data": {
      "text/html": [
       "<div>\n",
       "<style scoped>\n",
       "    .dataframe tbody tr th:only-of-type {\n",
       "        vertical-align: middle;\n",
       "    }\n",
       "\n",
       "    .dataframe tbody tr th {\n",
       "        vertical-align: top;\n",
       "    }\n",
       "\n",
       "    .dataframe thead th {\n",
       "        text-align: right;\n",
       "    }\n",
       "</style>\n",
       "<table border=\"1\" class=\"dataframe\">\n",
       "  <thead>\n",
       "    <tr style=\"text-align: right;\">\n",
       "      <th></th>\n",
       "      <th>No.[a]</th>\n",
       "      <th>Portrait</th>\n",
       "      <th>Name (birth–death)</th>\n",
       "      <th>Term[16]</th>\n",
       "      <th>Party[b][17]</th>\n",
       "      <th>Party[b][17].1</th>\n",
       "      <th>Election</th>\n",
       "      <th>Vice President[18]</th>\n",
       "    </tr>\n",
       "  </thead>\n",
       "  <tbody>\n",
       "    <tr>\n",
       "      <th>0</th>\n",
       "      <td>1</td>\n",
       "      <td>NaN</td>\n",
       "      <td>George Washington (1732–1799) [19]</td>\n",
       "      <td>April 30, 1789 – March 4, 1797</td>\n",
       "      <td>NaN</td>\n",
       "      <td>Unaffiliated</td>\n",
       "      <td>1788–891792</td>\n",
       "      <td>John Adams[c]</td>\n",
       "    </tr>\n",
       "    <tr>\n",
       "      <th>1</th>\n",
       "      <td>2</td>\n",
       "      <td>NaN</td>\n",
       "      <td>John Adams (1735–1826) [21]</td>\n",
       "      <td>March 4, 1797 – March 4, 1801</td>\n",
       "      <td>NaN</td>\n",
       "      <td>Federalist</td>\n",
       "      <td>1796</td>\n",
       "      <td>Thomas Jefferson[d]</td>\n",
       "    </tr>\n",
       "    <tr>\n",
       "      <th>2</th>\n",
       "      <td>3</td>\n",
       "      <td>NaN</td>\n",
       "      <td>Thomas Jefferson (1743–1826) [23]</td>\n",
       "      <td>March 4, 1801 – March 4, 1809</td>\n",
       "      <td>NaN</td>\n",
       "      <td>Democratic- Republican</td>\n",
       "      <td>1800 1804</td>\n",
       "      <td>Aaron BurrGeorge Clinton</td>\n",
       "    </tr>\n",
       "    <tr>\n",
       "      <th>3</th>\n",
       "      <td>4</td>\n",
       "      <td>NaN</td>\n",
       "      <td>James Madison (1751–1836) [24]</td>\n",
       "      <td>March 4, 1809 – March 4, 1817</td>\n",
       "      <td>NaN</td>\n",
       "      <td>Democratic- Republican</td>\n",
       "      <td>18081812</td>\n",
       "      <td>George Clinton[e]Vacant after April 20, 1812El...</td>\n",
       "    </tr>\n",
       "    <tr>\n",
       "      <th>4</th>\n",
       "      <td>5</td>\n",
       "      <td>NaN</td>\n",
       "      <td>James Monroe (1758–1831) [26]</td>\n",
       "      <td>March 4, 1817 – March 4, 1825</td>\n",
       "      <td>NaN</td>\n",
       "      <td>Democratic- Republican</td>\n",
       "      <td>18161820</td>\n",
       "      <td>Daniel D. Tompkins</td>\n",
       "    </tr>\n",
       "  </tbody>\n",
       "</table>\n",
       "</div>"
      ],
      "text/plain": [
       "   No.[a]  Portrait                  Name (birth–death)  \\\n",
       "0       1       NaN  George Washington (1732–1799) [19]   \n",
       "1       2       NaN         John Adams (1735–1826) [21]   \n",
       "2       3       NaN   Thomas Jefferson (1743–1826) [23]   \n",
       "3       4       NaN      James Madison (1751–1836) [24]   \n",
       "4       5       NaN       James Monroe (1758–1831) [26]   \n",
       "\n",
       "                         Term[16]  Party[b][17]          Party[b][17].1  \\\n",
       "0  April 30, 1789 – March 4, 1797           NaN            Unaffiliated   \n",
       "1   March 4, 1797 – March 4, 1801           NaN              Federalist   \n",
       "2   March 4, 1801 – March 4, 1809           NaN  Democratic- Republican   \n",
       "3   March 4, 1809 – March 4, 1817           NaN  Democratic- Republican   \n",
       "4   March 4, 1817 – March 4, 1825           NaN  Democratic- Republican   \n",
       "\n",
       "      Election                                 Vice President[18]  \n",
       "0  1788–891792                                      John Adams[c]  \n",
       "1         1796                                Thomas Jefferson[d]  \n",
       "2    1800 1804                           Aaron BurrGeorge Clinton  \n",
       "3     18081812  George Clinton[e]Vacant after April 20, 1812El...  \n",
       "4     18161820                                 Daniel D. Tompkins  "
      ]
     },
     "execution_count": 4,
     "metadata": {},
     "output_type": "execute_result"
    }
   ],
   "source": [
    "df[0].head()"
   ]
  },
  {
   "cell_type": "code",
   "execution_count": 5,
   "id": "c694e0e0-ef9a-4a12-84fd-3b18b5ef7b46",
   "metadata": {},
   "outputs": [],
   "source": [
    "df[0].to_csv(\"usa_presidents.csv\", index=False)"
   ]
  },
  {
   "cell_type": "code",
   "execution_count": null,
   "id": "6f9adb3f-a37e-4053-a6d9-0eb09e4b446c",
   "metadata": {},
   "outputs": [],
   "source": []
  }
 ],
 "metadata": {
  "kernelspec": {
   "display_name": "Python 3 (ipykernel)",
   "language": "python",
   "name": "python3"
  },
  "language_info": {
   "codemirror_mode": {
    "name": "ipython",
    "version": 3
   },
   "file_extension": ".py",
   "mimetype": "text/x-python",
   "name": "python",
   "nbconvert_exporter": "python",
   "pygments_lexer": "ipython3",
   "version": "3.12.10"
  }
 },
 "nbformat": 4,
 "nbformat_minor": 5
}
