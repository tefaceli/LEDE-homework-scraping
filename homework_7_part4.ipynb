{
 "cells": [
  {
   "cell_type": "markdown",
   "id": "a94743c5-e265-498b-ac54-7829a633556f",
   "metadata": {},
   "source": [
    "# Homework 7: Scraping part 4"
   ]
  },
  {
   "cell_type": "markdown",
   "id": "ed5f49ad-a352-4aff-948d-574e9730228d",
   "metadata": {},
   "source": [
    "## Part Four\n",
    "\n",
    "Visit https://www.tnwb.uscourts.gov/Search/Search.aspx and search for \"CAR.\" Scrape the results into a CSV, with four columns: the URL to the case, the name of the case, the category (e.g. \"Judge's Opinions), the additional details (terms match/size/pdf URL).\n",
    "\n",
    "**Bonuses, if you want to get fancy**:\n",
    "\n",
    "- Split up the additional details into multiple columns\n",
    "- Download all of the PDFs of the cases\n",
    "\n",
    "Tips:\n",
    "\n",
    "- There are only 10 results, and so many pages! ...maybe there's a secret way to get them all on one page?\n",
    "- Check the class you're using and see if it matches the number of results (it probably doesn't!). Inspect the page to find out why. You have two options: use something like we did in class with item.select(\"h1, h2\") – but slightly different, since we're talking about classes – or have two separate loops.\n",
    "- .split is often a convenient way to separate semi-structured text\n",
    "- Downloading PDFs in Python probably does not involve wget (unless you really want to)"
   ]
  },
  {
   "cell_type": "code",
   "execution_count": 7,
   "id": "aa8816d0-34e9-4f9a-9900-f9f18ffe44e0",
   "metadata": {},
   "outputs": [],
   "source": [
    "import pandas as pd\n",
    "import requests\n",
    "from bs4 import BeautifulSoup"
   ]
  },
  {
   "cell_type": "code",
   "execution_count": 8,
   "id": "290e92f5-e278-4148-86b7-97f61c5481e3",
   "metadata": {},
   "outputs": [],
   "source": [
    "urls = [\"https://www.tnwb.uscourts.gov/Search/search.aspx?zoom_query=car&zoom_page=1&zoom_per_page=100&zoom_and=1&zoom_sort=0&zoom_xml=0\", \"https://www.tnwb.uscourts.gov/Search/search.aspx?zoom_query=car&zoom_page=2&zoom_per_page=100&zoom_and=1&zoom_sort=0&zoom_xml=0\"]"
   ]
  },
  {
   "cell_type": "code",
   "execution_count": 13,
   "id": "1121ec43-5039-4efe-b20f-15124e447257",
   "metadata": {},
   "outputs": [],
   "source": [
    "url = urls[0] #Just for starting with one\n",
    "\n",
    "response = requests.get(url)\n",
    "doc = BeautifulSoup(response.text)"
   ]
  },
  {
   "cell_type": "code",
   "execution_count": 105,
   "id": "5dfeb9e9-f6b5-48ae-88b1-b326edad567d",
   "metadata": {},
   "outputs": [],
   "source": [
    "items = doc.find_all(class_=[\"result_block\", \"result_altblock\"])"
   ]
  },
  {
   "cell_type": "code",
   "execution_count": 106,
   "id": "720f56b6-6480-4e95-8082-c63bc57145b1",
   "metadata": {},
   "outputs": [
    {
     "data": {
      "text/plain": [
       "100"
      ]
     },
     "execution_count": 106,
     "metadata": {},
     "output_type": "execute_result"
    }
   ],
   "source": [
    "len(items) #It's showing just half"
   ]
  },
  {
   "cell_type": "code",
   "execution_count": 107,
   "id": "0f3da90b-0ec6-48b2-9fa2-a0fea46b53e0",
   "metadata": {},
   "outputs": [
    {
     "data": {
      "text/plain": [
       "<div class=\"result_altblock\">\n",
       "<div class=\"result_title\"><b>100.</b> <a href=\"https://www.tnwb.uscourts.gov/Opinions/jlc/pdf/jlc20150114nn7.pdf#search=%22car%22\" target=\"_blank\">JLC: 11-12703 Bobbie L. Baker</a><span class=\"category\"> [Judges' Opinions]</span></div>\n",
       "<div class=\"context\">\n",
       "<b>...</b> seeking to collect all disbursements to which a West Tennessee business entity, Highway 64 <span class=\"highlight\">Car</span> and Truck Sales (\" Highway 64\") , would be entitled, <b>...</b></div>\n",
       "<div class=\"infoline\">Terms matched:  1  -  725k  -  URL: https://www.tnwb.uscourts.gov/Opinions/jlc/pdf/jlc20150114nn7.pdf</div>\n",
       "</div>"
      ]
     },
     "execution_count": 107,
     "metadata": {},
     "output_type": "execute_result"
    }
   ],
   "source": [
    "items[-1]"
   ]
  },
  {
   "cell_type": "code",
   "execution_count": 108,
   "id": "db033a3a-8674-4b1f-b1d7-af3cf2c34693",
   "metadata": {},
   "outputs": [],
   "source": [
    "cases = []\n",
    "for item in items:\n",
    "    case = {}\n",
    "    \n",
    "    #URL\n",
    "    case[\"case_url\"] = item.find(\"a\").get(\"href\")\n",
    "\n",
    "    #Name of the case\n",
    "    case[\"case_name\"] = item.find(\"a\").text\n",
    "\n",
    "    #Category\n",
    "    case[\"category\"] = item.find(class_=\"category\").text.strip()\n",
    "\n",
    "    #Terms match\n",
    "    case[\"terms_match\"] = item.find(class_=\"context\").text.strip()\n",
    "\n",
    "    #Size\n",
    "    weight = item.find(class_=\"infoline\").text.strip()\n",
    "    parts = weight.split(\" - \")\n",
    "    weight = parts[1].strip()\n",
    "    case[\"weight\"] = weight\n",
    "\n",
    "    cases.append(case) "
   ]
  },
  {
   "cell_type": "code",
   "execution_count": 109,
   "id": "6755c44c-26d8-4822-9724-58008fad6b3e",
   "metadata": {},
   "outputs": [
    {
     "data": {
      "text/plain": [
       "100"
      ]
     },
     "execution_count": 109,
     "metadata": {},
     "output_type": "execute_result"
    }
   ],
   "source": [
    "len(cases)"
   ]
  },
  {
   "cell_type": "code",
   "execution_count": 110,
   "id": "ef0815aa-8105-4cf9-9a0d-55caf6497726",
   "metadata": {},
   "outputs": [
    {
     "data": {
      "text/plain": [
       "{'case_url': 'https://www.tnwb.uscourts.gov/Opinions/jdl/pdf/jdl20071024nn1.pdf#search=%22car%22',\n",
       " 'case_name': 'JDL: 04-24318 Jacquelline D. Black',\n",
       " 'category': \"[Judges' Opinions]\",\n",
       " 'terms_match': \"... the basis that the Debtor failed to prove that K's Auto had custody of the car or knew of the whereabouts of the car. This adversary proceeding was administratively ...\",\n",
       " 'weight': '102k'}"
      ]
     },
     "execution_count": 110,
     "metadata": {},
     "output_type": "execute_result"
    }
   ],
   "source": [
    "cases[0]"
   ]
  },
  {
   "cell_type": "code",
   "execution_count": 117,
   "id": "658cad73-a2a4-4d17-a39e-374c35403040",
   "metadata": {},
   "outputs": [
    {
     "data": {
      "text/plain": [
       "132"
      ]
     },
     "execution_count": 117,
     "metadata": {},
     "output_type": "execute_result"
    }
   ],
   "source": [
    "cases = []\n",
    "\n",
    "for url in urls:\n",
    "    response = requests.get(url)\n",
    "    doc = BeautifulSoup(response.text)\n",
    "    items = doc.find_all(class_=[\"result_block\", \"result_altblock\"])\n",
    "    \n",
    "    for item in items:\n",
    "        case = {}\n",
    "        \n",
    "        #URL\n",
    "        case[\"case_url\"] = item.find(\"a\").get(\"href\")\n",
    "\n",
    "        #Name of the case\n",
    "        case[\"case_name\"] = item.find(\"a\").text\n",
    "\n",
    "        #Category\n",
    "        case[\"category\"] = item.find(class_=\"category\").text.strip()\n",
    "\n",
    "        #Terms match\n",
    "        case[\"terms_match\"] = item.find(class_=\"context\").text.strip()\n",
    "\n",
    "        #Size\n",
    "        weight = item.find(class_=\"infoline\").text.strip()\n",
    "        parts = weight.split(\" - \")\n",
    "        weight = parts[1].strip()\n",
    "        case[\"weight\"] = weight\n",
    "\n",
    "        cases.append(case) \n",
    "\n",
    "len(cases)"
   ]
  },
  {
   "cell_type": "code",
   "execution_count": 118,
   "id": "968f65a6-f692-458e-9105-348f2adac276",
   "metadata": {},
   "outputs": [
    {
     "data": {
      "text/plain": [
       "{'case_url': 'https://www.tnwb.uscourts.gov/Opinions/jdl/pdf/jdl20071024nn1.pdf#search=%22car%22',\n",
       " 'case_name': 'JDL: 04-24318 Jacquelline D. Black',\n",
       " 'category': \"[Judges' Opinions]\",\n",
       " 'terms_match': \"... the basis that the Debtor failed to prove that K's Auto had custody of the car or knew of the whereabouts of the car. This adversary proceeding was administratively ...\",\n",
       " 'weight': '102k'}"
      ]
     },
     "execution_count": 118,
     "metadata": {},
     "output_type": "execute_result"
    }
   ],
   "source": [
    "cases[0]"
   ]
  },
  {
   "cell_type": "code",
   "execution_count": null,
   "id": "0395bcb0-7928-41c3-bdd0-ea95305d08d6",
   "metadata": {},
   "outputs": [],
   "source": [
    "#For downloading the pdfs\n",
    "\n",
    "for case in cases:\n",
    "    url = case[\"case_url\"]\n",
    "    filename = f\"{case[\"case_name\"]}.pdf\"\n",
    "    \n",
    "    response = requests.get(url)\n",
    "    with open(filename, 'wb') as f:\n",
    "            f.write(response.content)\n",
    "\n",
    "    print(f\"Downloadaded {filename} OK\")"
   ]
  },
  {
   "cell_type": "code",
   "execution_count": null,
   "id": "9b663bfb-aed5-4f20-8046-9ad1e38b3f44",
   "metadata": {},
   "outputs": [],
   "source": []
  }
 ],
 "metadata": {
  "kernelspec": {
   "display_name": "Python 3 (ipykernel)",
   "language": "python",
   "name": "python3"
  },
  "language_info": {
   "codemirror_mode": {
    "name": "ipython",
    "version": 3
   },
   "file_extension": ".py",
   "mimetype": "text/x-python",
   "name": "python",
   "nbconvert_exporter": "python",
   "pygments_lexer": "ipython3",
   "version": "3.12.10"
  }
 },
 "nbformat": 4,
 "nbformat_minor": 5
}
