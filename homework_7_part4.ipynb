{
 "cells": [
  {
   "cell_type": "markdown",
   "id": "a94743c5-e265-498b-ac54-7829a633556f",
   "metadata": {},
   "source": [
    "# Homework 7: Scraping part 4"
   ]
  },
  {
   "cell_type": "markdown",
   "id": "ed5f49ad-a352-4aff-948d-574e9730228d",
   "metadata": {},
   "source": [
    "## Part Four\n",
    "\n",
    "Visit https://www.tnwb.uscourts.gov/Search/Search.aspx and search for \"CAR.\" Scrape the results into a CSV, with four columns: the URL to the case, the name of the case, the category (e.g. \"Judge's Opinions), the additional details (terms match/size/pdf URL).\n",
    "\n",
    "**Bonuses, if you want to get fancy**:\n",
    "\n",
    "- Split up the additional details into multiple columns\n",
    "- Download all of the PDFs of the cases\n",
    "\n",
    "Tips:\n",
    "\n",
    "- There are only 10 results, and so many pages! ...maybe there's a secret way to get them all on one page?\n",
    "- Check the class you're using and see if it matches the number of results (it probably doesn't!). Inspect the page to find out why. You have two options: use something like we did in class with item.select(\"h1, h2\") – but slightly different, since we're talking about classes – or have two separate loops.\n",
    "- .split is often a convenient way to separate semi-structured text\n",
    "- Downloading PDFs in Python probably does not involve wget (unless you really want to)"
   ]
  },
  {
   "cell_type": "code",
   "execution_count": 7,
   "id": "aa8816d0-34e9-4f9a-9900-f9f18ffe44e0",
   "metadata": {},
   "outputs": [],
   "source": [
    "import pandas as pd\n",
    "import requests\n",
    "from bs4 import BeautifulSoup"
   ]
  },
  {
   "cell_type": "code",
   "execution_count": 8,
   "id": "1121ec43-5039-4efe-b20f-15124e447257",
   "metadata": {},
   "outputs": [],
   "source": [
    "#Starting with the first results page - setting the \"results per page to 100\"\n",
    "url = \"https://www.tnwb.uscourts.gov/Search/search.aspx?zoom_query=car&zoom_page=1&zoom_per_page=100&zoom_and=1&zoom_sort=0&zoom_xml=0\"\n",
    "\n",
    "response = requests.get(url)\n",
    "doc = BeautifulSoup(response.text)"
   ]
  },
  {
   "cell_type": "code",
   "execution_count": 9,
   "id": "5dfeb9e9-f6b5-48ae-88b1-b326edad567d",
   "metadata": {},
   "outputs": [],
   "source": [
    "items = doc.find_all(class_=[\"result_block\", \"result_altblock\"])"
   ]
  },
  {
   "cell_type": "code",
   "execution_count": 10,
   "id": "720f56b6-6480-4e95-8082-c63bc57145b1",
   "metadata": {
    "scrolled": true
   },
   "outputs": [
    {
     "data": {
      "text/plain": [
       "100"
      ]
     },
     "execution_count": 10,
     "metadata": {},
     "output_type": "execute_result"
    }
   ],
   "source": [
    "len(items) #It's showing just half"
   ]
  },
  {
   "cell_type": "code",
   "execution_count": 11,
   "id": "0f3da90b-0ec6-48b2-9fa2-a0fea46b53e0",
   "metadata": {
    "scrolled": true
   },
   "outputs": [
    {
     "data": {
      "text/plain": [
       "<div class=\"result_altblock\">\n",
       "<div class=\"result_title\"><b>100.</b> <a href=\"https://www.tnwb.uscourts.gov/Opinions/jlc/pdf/jlc20150114nn7.pdf#search=%22car%22\" target=\"_blank\">JLC: 11-12703 Bobbie L. Baker</a><span class=\"category\"> [Judges' Opinions]</span></div>\n",
       "<div class=\"context\">\n",
       "<b>...</b> seeking to collect all disbursements to which a West Tennessee business entity, Highway 64 <span class=\"highlight\">Car</span> and Truck Sales (\" Highway 64\") , would be entitled, <b>...</b></div>\n",
       "<div class=\"infoline\">Terms matched:  1  -  725k  -  URL: https://www.tnwb.uscourts.gov/Opinions/jlc/pdf/jlc20150114nn7.pdf</div>\n",
       "</div>"
      ]
     },
     "execution_count": 11,
     "metadata": {},
     "output_type": "execute_result"
    }
   ],
   "source": [
    "items[-1]"
   ]
  },
  {
   "cell_type": "code",
   "execution_count": 12,
   "id": "db033a3a-8674-4b1f-b1d7-af3cf2c34693",
   "metadata": {},
   "outputs": [],
   "source": [
    "cases = []\n",
    "for item in items:\n",
    "    case = {}\n",
    "    \n",
    "    #URL\n",
    "    case[\"case_url\"] = item.find(\"a\").get(\"href\")\n",
    "\n",
    "    #Name of the case\n",
    "    case[\"case_name\"] = item.find(\"a\").text\n",
    "\n",
    "    #Category\n",
    "    case[\"category\"] = item.find(class_=\"category\").text.strip()\n",
    "\n",
    "    #Terms match\n",
    "    case[\"terms_match\"] = item.find(class_=\"context\").text.strip()\n",
    "\n",
    "    #Size\n",
    "    weight = item.find(class_=\"infoline\").text.strip()\n",
    "    parts = weight.split(\" - \")\n",
    "    weight = parts[1].strip()\n",
    "    case[\"weight\"] = weight\n",
    "\n",
    "    cases.append(case) "
   ]
  },
  {
   "cell_type": "code",
   "execution_count": 13,
   "id": "6755c44c-26d8-4822-9724-58008fad6b3e",
   "metadata": {
    "scrolled": true
   },
   "outputs": [
    {
     "data": {
      "text/plain": [
       "100"
      ]
     },
     "execution_count": 13,
     "metadata": {},
     "output_type": "execute_result"
    }
   ],
   "source": [
    "len(cases)"
   ]
  },
  {
   "cell_type": "code",
   "execution_count": 14,
   "id": "ef0815aa-8105-4cf9-9a0d-55caf6497726",
   "metadata": {
    "scrolled": true
   },
   "outputs": [
    {
     "data": {
      "text/plain": [
       "{'case_url': 'https://www.tnwb.uscourts.gov/Opinions/jdl/pdf/jdl20071024nn1.pdf#search=%22car%22',\n",
       " 'case_name': 'JDL: 04-24318 Jacquelline D. Black',\n",
       " 'category': \"[Judges' Opinions]\",\n",
       " 'terms_match': \"... the basis that the Debtor failed to prove that K's Auto had custody of the car or knew of the whereabouts of the car. This adversary proceeding was administratively ...\",\n",
       " 'weight': '102k'}"
      ]
     },
     "execution_count": 14,
     "metadata": {},
     "output_type": "execute_result"
    }
   ],
   "source": [
    "cases[0]"
   ]
  },
  {
   "cell_type": "code",
   "execution_count": 15,
   "id": "d09c2204-7407-4517-8d96-d85eb8075ce5",
   "metadata": {},
   "outputs": [
    {
     "data": {
      "text/plain": [
       "2"
      ]
     },
     "execution_count": 15,
     "metadata": {},
     "output_type": "execute_result"
    }
   ],
   "source": [
    "#Now for the different pages with results\n",
    "urls = []\n",
    "\n",
    "for number in range(1,3): #Include the number of pages you see in the results\n",
    "    url = f\"https://www.tnwb.uscourts.gov/Search/search.aspx?zoom_query=car&zoom_page={number}&zoom_per_page=100&zoom_and=1&zoom_sort=0&zoom_xml=0\"\n",
    "    urls.append(url)\n",
    "\n",
    "len(urls)"
   ]
  },
  {
   "cell_type": "code",
   "execution_count": 16,
   "id": "658cad73-a2a4-4d17-a39e-374c35403040",
   "metadata": {
    "scrolled": true
   },
   "outputs": [
    {
     "data": {
      "text/plain": [
       "132"
      ]
     },
     "execution_count": 16,
     "metadata": {},
     "output_type": "execute_result"
    }
   ],
   "source": [
    "cases = []\n",
    "\n",
    "for url in urls:\n",
    "    response = requests.get(url)\n",
    "    doc = BeautifulSoup(response.text)\n",
    "    items = doc.find_all(class_=[\"result_block\", \"result_altblock\"])\n",
    "    \n",
    "    for item in items:\n",
    "        case = {}\n",
    "        \n",
    "        #URL\n",
    "        case[\"case_url\"] = item.find(\"a\").get(\"href\")\n",
    "\n",
    "        #Name of the case\n",
    "        case[\"case_name\"] = item.find(\"a\").text\n",
    "\n",
    "        #Category\n",
    "        case[\"category\"] = item.find(class_=\"category\").text.strip()\n",
    "\n",
    "        #Terms match\n",
    "        case[\"terms_match\"] = item.find(class_=\"context\").text.strip()\n",
    "\n",
    "        #Size\n",
    "        weight = item.find(class_=\"infoline\").text.strip()\n",
    "        parts = weight.split(\" - \")\n",
    "        weight = parts[1].strip()\n",
    "        case[\"weight\"] = weight\n",
    "\n",
    "        cases.append(case) \n",
    "\n",
    "len(cases)"
   ]
  },
  {
   "cell_type": "code",
   "execution_count": 17,
   "id": "968f65a6-f692-458e-9105-348f2adac276",
   "metadata": {},
   "outputs": [
    {
     "data": {
      "text/plain": [
       "{'case_url': 'https://www.tnwb.uscourts.gov/Opinions/jdl/pdf/jdl20071024nn1.pdf#search=%22car%22',\n",
       " 'case_name': 'JDL: 04-24318 Jacquelline D. Black',\n",
       " 'category': \"[Judges' Opinions]\",\n",
       " 'terms_match': \"... the basis that the Debtor failed to prove that K's Auto had custody of the car or knew of the whereabouts of the car. This adversary proceeding was administratively ...\",\n",
       " 'weight': '102k'}"
      ]
     },
     "execution_count": 17,
     "metadata": {},
     "output_type": "execute_result"
    }
   ],
   "source": [
    "cases[0]"
   ]
  },
  {
   "cell_type": "code",
   "execution_count": 18,
   "id": "4881dc4c-6ea8-4136-85b7-88f9f49d220b",
   "metadata": {},
   "outputs": [
    {
     "data": {
      "text/html": [
       "<div>\n",
       "<style scoped>\n",
       "    .dataframe tbody tr th:only-of-type {\n",
       "        vertical-align: middle;\n",
       "    }\n",
       "\n",
       "    .dataframe tbody tr th {\n",
       "        vertical-align: top;\n",
       "    }\n",
       "\n",
       "    .dataframe thead th {\n",
       "        text-align: right;\n",
       "    }\n",
       "</style>\n",
       "<table border=\"1\" class=\"dataframe\">\n",
       "  <thead>\n",
       "    <tr style=\"text-align: right;\">\n",
       "      <th></th>\n",
       "      <th>case_url</th>\n",
       "      <th>case_name</th>\n",
       "      <th>category</th>\n",
       "      <th>terms_match</th>\n",
       "      <th>weight</th>\n",
       "    </tr>\n",
       "  </thead>\n",
       "  <tbody>\n",
       "    <tr>\n",
       "      <th>0</th>\n",
       "      <td>https://www.tnwb.uscourts.gov/Opinions/jdl/pdf...</td>\n",
       "      <td>JDL: 04-24318 Jacquelline D. Black</td>\n",
       "      <td>[Judges' Opinions]</td>\n",
       "      <td>... the basis that the Debtor failed to prove ...</td>\n",
       "      <td>102k</td>\n",
       "    </tr>\n",
       "    <tr>\n",
       "      <th>1</th>\n",
       "      <td>https://www.tnwb.uscourts.gov/Opinions/whb/pdf...</td>\n",
       "      <td>WHB: 95-26401 Mary Lucy Cooper</td>\n",
       "      <td>[Judges' Opinions]</td>\n",
       "      <td>... MARY LUCY COOPER, Plaintiff, v. Adversary ...</td>\n",
       "      <td>27k</td>\n",
       "    </tr>\n",
       "    <tr>\n",
       "      <th>2</th>\n",
       "      <td>https://www.tnwb.uscourts.gov/Opinions/ghb/pdf...</td>\n",
       "      <td>GHB: 97-12368 Billy G. Woffard</td>\n",
       "      <td>[Judges' Opinions]</td>\n",
       "      <td>... G. Woffard, (\" Woffard\") , was partners in...</td>\n",
       "      <td>71k</td>\n",
       "    </tr>\n",
       "    <tr>\n",
       "      <th>3</th>\n",
       "      <td>https://www.tnwb.uscourts.gov/Opinions/jdl/pdf...</td>\n",
       "      <td>JDL: 97-30580 Mary Chrlis Hurst</td>\n",
       "      <td>[Judges' Opinions]</td>\n",
       "      <td>... UNITED STATES BANKRUPTCY COURT WESTERN DIS...</td>\n",
       "      <td>32k</td>\n",
       "    </tr>\n",
       "    <tr>\n",
       "      <th>4</th>\n",
       "      <td>https://www.tnwb.uscourts.gov/Opinions/mrh/pdf...</td>\n",
       "      <td>MRH: 20-20967 Jacob Braxton Herring 20-00094</td>\n",
       "      <td>[Judges' Opinions]</td>\n",
       "      <td>... and soon thereafter the contract was assig...</td>\n",
       "      <td>303k</td>\n",
       "    </tr>\n",
       "  </tbody>\n",
       "</table>\n",
       "</div>"
      ],
      "text/plain": [
       "                                            case_url  \\\n",
       "0  https://www.tnwb.uscourts.gov/Opinions/jdl/pdf...   \n",
       "1  https://www.tnwb.uscourts.gov/Opinions/whb/pdf...   \n",
       "2  https://www.tnwb.uscourts.gov/Opinions/ghb/pdf...   \n",
       "3  https://www.tnwb.uscourts.gov/Opinions/jdl/pdf...   \n",
       "4  https://www.tnwb.uscourts.gov/Opinions/mrh/pdf...   \n",
       "\n",
       "                                      case_name            category  \\\n",
       "0            JDL: 04-24318 Jacquelline D. Black  [Judges' Opinions]   \n",
       "1                WHB: 95-26401 Mary Lucy Cooper  [Judges' Opinions]   \n",
       "2                GHB: 97-12368 Billy G. Woffard  [Judges' Opinions]   \n",
       "3               JDL: 97-30580 Mary Chrlis Hurst  [Judges' Opinions]   \n",
       "4  MRH: 20-20967 Jacob Braxton Herring 20-00094  [Judges' Opinions]   \n",
       "\n",
       "                                         terms_match weight  \n",
       "0  ... the basis that the Debtor failed to prove ...   102k  \n",
       "1  ... MARY LUCY COOPER, Plaintiff, v. Adversary ...    27k  \n",
       "2  ... G. Woffard, (\" Woffard\") , was partners in...    71k  \n",
       "3  ... UNITED STATES BANKRUPTCY COURT WESTERN DIS...    32k  \n",
       "4  ... and soon thereafter the contract was assig...   303k  "
      ]
     },
     "execution_count": 18,
     "metadata": {},
     "output_type": "execute_result"
    }
   ],
   "source": [
    "df = pd.json_normalize(cases)\n",
    "df.head()"
   ]
  },
  {
   "cell_type": "code",
   "execution_count": 19,
   "id": "c6832d97-3f2b-4a42-b8c2-00a4a8e1ed25",
   "metadata": {},
   "outputs": [],
   "source": [
    "df.to_csv(\"cars_cases_wd_tennessee.csv\")"
   ]
  },
  {
   "cell_type": "code",
   "execution_count": 20,
   "id": "0395bcb0-7928-41c3-bdd0-ea95305d08d6",
   "metadata": {},
   "outputs": [
    {
     "name": "stdout",
     "output_type": "stream",
     "text": [
      "Downloadaded JDL: 04-24318 Jacquelline D. Black.pdf OK\n",
      "Downloadaded WHB: 95-26401 Mary Lucy Cooper.pdf OK\n",
      "Downloadaded GHB: 97-12368 Billy G. Woffard.pdf OK\n",
      "Downloadaded JDL: 97-30580 Mary Chrlis Hurst.pdf OK\n",
      "Downloadaded MRH: 20-20967 Jacob Braxton Herring 20-00094.pdf OK\n",
      "Downloadaded GHB: 95-11365 Melissa L. Bryan.pdf OK\n",
      "Downloadaded JDL: 09-20339 Diane M. Miller.pdf OK\n",
      "Downloadaded GHB: 00-12340 Wanda K. Autry.pdf OK\n",
      "Downloadaded GHB: 02-31651 Neil Bond Stewart, Jr. and Tina R. Stewart.pdf OK\n",
      "Downloadaded GHB: 96-12039 Randy and Janice Willson.pdf OK\n",
      "Downloadaded GHB: 02-12407 Luis Rossi and Evelyn Rossi.pdf OK\n",
      "Downloadaded GHB: 99-12067 James Dean and Patsy Dean.pdf OK\n",
      "Downloadaded WHB: 95-29798 Byron Crumb.pdf OK\n",
      "Downloadaded JDL: 04-23035 Jennifer Ann Jamison-McGee.pdf OK\n",
      "Downloadaded JDL: 04-23035 Jennifer Ann Jamison-McGee.pdf OK\n",
      "Downloadaded GHB: 93-11057 Steven Lynn Hornsby and Teresa Lynn Hornsby.pdf OK\n",
      "Downloadaded JDL: 97-25357 Bobbie Louise Taylor Yarbrough.pdf OK\n",
      "Downloadaded WHB: 97-30594 Patricia A. Wordlow.pdf OK\n",
      "Downloadaded WHB: 98-33606 Keith O'Neil Thompson.pdf OK\n",
      "Downloadaded DSK: 96-32187 Robert Edward Lee Harris.pdf OK\n",
      "Downloadaded JDL: 05-34845 Amy L. Humphrey.pdf OK\n",
      "Downloadaded GHB: 04-11796 Anggela Burks.pdf OK\n",
      "Downloadaded WHB: 96-33014 Joel R. Waller.pdf OK\n",
      "Downloadaded GHB: 98-12880 Charles Lyles and Joan Lyles.pdf OK\n",
      "Downloadaded GHB: 06-12148 Pamela Joyee Bray.pdf OK\n",
      "Downloadaded WHB: 92-20460 Jacky Earal Goff.pdf OK\n",
      "Downloadaded JDL: 23-22501-L Peacola Inetta Walker 23-00064.pdf OK\n",
      "Downloadaded WHB: 96-22525 Robert F. Blose, Jr. and Sue V, Blose.pdf OK\n",
      "Downloadaded GHB: 03-11023 William Boyce Stedham.pdf OK\n",
      "Downloadaded WHB: 97-25255 Vickki Logan.pdf OK\n",
      "Downloadaded GHB: 02-15609 Matt T. Leslie.pdf OK\n",
      "Downloadaded GHB: 04-11796 Angela Burks.pdf OK\n",
      "Downloadaded JLC: 12-11989 - Chad M. Murray and Lisa N. Murray.pdf OK\n",
      "Downloadaded WHB: 88-11562 Ann Rimmer.pdf OK\n",
      "Downloadaded JDL: 22-20380-L Island Industries, Inc..pdf OK\n",
      "Downloadaded DEB: 22-23059 Rolesha C. Edmondson.pdf OK\n",
      "Downloadaded WHB: 04-31648 William Clyde Hoover.pdf OK\n",
      "Downloadaded JDL: 07-32566 Raymond Williams.pdf OK\n",
      "Downloadaded GHB: 01-11191 Jerry F. Blurton.pdf OK\n",
      "Downloadaded GHB: 98-11779 Nakia Keshuna Hill Dickerson.pdf OK\n",
      "Downloadaded GHB: 98-11779 Nakia Keshuna Hill Dickerson.pdf OK\n",
      "Downloadaded WHB: 89-30096 Gary James Brown and Carolyn Janice Brown.pdf OK\n",
      "Downloadaded DSK: 89-9001 MAX Weldon Workman.pdf OK\n",
      "Downloadaded JDL: 02-23450 John Franklin Copper.pdf OK\n",
      "Downloadaded WHB: 95-26950 H & K Plumbing and Heating, Inc..pdf OK\n",
      "Downloadaded JDL: 97-20992 Tina Marie Johnson.pdf OK\n",
      "Downloadaded WHB: 91-10326 Marty W. Matlock.pdf OK\n",
      "Downloadaded GHB: 96-25514 Eddie Faye Hall.pdf OK\n",
      "Downloadaded GHB: 00-14668 Elizabeth Ann Ballard.pdf OK\n",
      "Downloadaded DSK: 12-21679 Timothy Michelotti and April Michelotti.pdf OK\n",
      "Downloadaded TNWB :: Search Tips.pdf OK\n",
      "Downloadaded DEB: 23-22086 Kekeya Anita Reynolds 23-00105.pdf OK\n",
      "Downloadaded WHB: 02-20235 Debra K. Harper.pdf OK\n",
      "Downloadaded GHB: 97-12480 Ruthie M. Perry.pdf OK\n",
      "Downloadaded JDL: 20-25790-L Kelly Colvard Parsons.pdf OK\n",
      "Downloadaded GHB: 00-12340 Wanda K. Autry.pdf OK\n",
      "Downloadaded JDL: 04-24746 Flora J. Thomas Jeans and Derrell T. Jeans.pdf OK\n",
      "Downloadaded GHB: 95-13199 Sheri Lynn Hanks.pdf OK\n",
      "Downloadaded JLC: 11-12502  - Dentis Sisson and Cathy Sisson.pdf OK\n",
      "Downloadaded JDL: 10-20164 Lawrence Thurston Sharp, Jr..pdf OK\n",
      "Downloadaded WHB: 90-20283 The Julien Company.pdf OK\n",
      "Downloadaded JLC: 13-10770 Wisper, LLC v. George Matthew Abernathy.pdf OK\n",
      "Downloadaded GHB: 08-12141 Hulon L. Crisp.pdf OK\n",
      "Downloadaded DSK: 17-20334 Heather Patrice Hogrobrooks Harris.pdf OK\n",
      "Downloadaded JDL: 98-24717 Adam Ike Hayes.pdf OK\n",
      "Downloadaded GHB: 98-10430 Jeremy Brynildson.pdf OK\n",
      "Downloadaded GHB: 03-10936 Nickey Evans and Carrie Evans.pdf OK\n",
      "Downloadaded GHB: 98-12504 Ricky D. Alston and Penny M. Alston.pdf OK\n",
      "Downloadaded JDL: 09-00482 Memorandum on Trial of Discharge Issues Earl Benard Blasingame.pdf OK\n",
      "Downloadaded JDL: 09-23915 Anthony Eugene Bursi.pdf OK\n",
      "Downloadaded DSK: 91-26267 Stephanie A. Randle.pdf OK\n",
      "Downloadaded GHB: 98-26783 James E. Lowery.pdf OK\n",
      "Downloadaded GHB: 01-11338 Potts Logging, Inc..pdf OK\n",
      "Downloadaded WHB: 90-28551 Walter Richard Hubbard.pdf OK\n",
      "Downloadaded GHB: 00-14266 Charles and Diannia Jones.pdf OK\n",
      "Downloadaded GHB: 02-10121 Clay Alan Beavers.pdf OK\n",
      "Downloadaded WHB: 96-35720 Lauraretter Crowder.pdf OK\n",
      "Downloadaded Application to Have the Chapter 7 Filing Fee Waived.pdf OK\n",
      "Downloadaded GHB: 98-33831 Tracy Wayne Chapman and Tina Renee Chapman, AKA Riley, AKA Nuccio.pdf OK\n",
      "Downloadaded JDL: 08-20612 Carol Renee Wells.pdf OK\n",
      "Downloadaded GHB: 01-10552 Sylvaine Hugh Cooper and Kathy Mae Cooper.pdf OK\n",
      "Downloadaded GHB: 97-11788 Terry Lynn Patrick.pdf OK\n",
      "Downloadaded DSK: 89-11300 Ronnie Carl Phillips and Lisa Lynn Phillips.pdf OK\n",
      "Downloadaded LF009ECF - Complaint for Turnover of Property To The Estate.pdf OK\n",
      "Downloadaded JDL: 02-23559 Larry Paul Conway.pdf OK\n",
      "Downloadaded WHB: 88-23910 Ferrell Benjamin.pdf OK\n",
      "Downloadaded JDL: 98-21325 Clyde Jamison.pdf OK\n",
      "Downloadaded GHB: 97-12854 Danny Cobb.pdf OK\n",
      "Downloadaded JDL: 97-32566 Mary Brigance, 97-30834 Kisha Lavae Brown, 97-31345 Adam B. Chandler, 97-32181 Joy Zella Echols.pdf OK\n",
      "Downloadaded JDL: 97-32566 Mary Brigance, 97-30834 Kisha Lavae Brown, 97-31345 Adam B. Chandler, 97-32181 Joy Zella Echols.pdf OK\n",
      "Downloadaded JDL: 01-27039 Dennis J. O'Connor and Debbie Ann O'Conner.pdf OK\n",
      "Downloadaded JDL: 02-23450 John Franklin Copper.pdf OK\n",
      "Downloadaded WHB: 90-20283 The Julien Company.pdf OK\n",
      "Downloadaded GHB: 93-11057 Steven Lynn Hornsby and Teresa Lynn Hornsby.pdf OK\n",
      "Downloadaded WHB: 91-12236 W. Dwight Frisbee, Jr..pdf OK\n",
      "Downloadaded JDL: 97-32566 Mary Brigance, 97-30834 Kisha Lavae Brown, 97-31345 Adam B. Chandler, 97-32181 Joy Zella Echols.pdf OK\n",
      "Downloadaded PJD: 11-23217 William R. Hyneman.pdf OK\n",
      "Downloadaded JDL: 97-32566 Mary Brigance, 97-30834 Kisha Lavae Brown, 97-31345 Adam B. Chandler, 97-32181 Joy Zella Echols.pdf OK\n",
      "Downloadaded JLC: 11-12607 Torayo Orlandris Brown.pdf OK\n",
      "Downloadaded JLC: 11-12703 Bobbie L. Baker.pdf OK\n",
      "Downloadaded JLC: 11-12927 Toneka Lashalle Allen.pdf OK\n",
      "Downloadaded JLC: 13-10404 Tabathia Lenore McGuire.pdf OK\n",
      "Downloadaded JDL: 98-34649 Larry Joseph Waters.pdf OK\n",
      "Downloadaded JLC: 09-13493 Janice L. Elrod.pdf OK\n",
      "Downloadaded JLC: 13-12865  Johnathan Allen Mathis.pdf OK\n",
      "Downloadaded JLC: 14-10434  James Boyd Hill, 2ND.pdf OK\n",
      "Downloadaded JLC: 09-14395 Cherri Ann Smith.pdf OK\n",
      "Downloadaded JLC: 09-14738  Homer Lee Spencer.pdf OK\n",
      "Downloadaded JLC: 10-10866 Shatonia Yvette Montgomery.pdf OK\n",
      "Downloadaded JLC: 10-11554  Loistine Sheppard Dupree.pdf OK\n",
      "Downloadaded GHB: 03-26637 David D. Dean.pdf OK\n",
      "Downloadaded DSK: 01-34950 Green Valentine, Inc..pdf OK\n",
      "Downloadaded JDL: 97-27911 David A. Siegel.pdf OK\n",
      "Downloadaded DSK: 12-25604 Calvin Allen and Latarsha Allen.pdf OK\n",
      "Downloadaded JDL: 16-00307 Stewart v McAlexander.pdf OK\n",
      "Downloadaded WHB: 88-01467 Washington Manufacturing Company, et al..pdf OK\n",
      "Downloadaded JDL: 18-28470 Latasha Chanta Tennial 20-00152.pdf OK\n",
      "Downloadaded GHB: 04-15164 Timothy and Danna Elrod.pdf OK\n",
      "Downloadaded JLC: 14-12505 Joe M. & Angela J. Smith.pdf OK\n",
      "Downloadaded GHB: 04-12129 Williw Lee Cook and Angela D. Cook.pdf OK\n",
      "Downloadaded MRH: 24-22189 Janice Bell 24-00055.pdf OK\n",
      "Downloadaded GHB: 03-13482 Ronald Wayne Pounds.pdf OK\n",
      "Downloadaded JDL: 03-26316 Charles Hunt Gallina.pdf OK\n",
      "Downloadaded DSK: 00-24646 James Darryl Foust.pdf OK\n",
      "Downloadaded DSK: 96-28148 George Allen Herbison.pdf OK\n",
      "Downloadaded DEB: 24-22894 Julianka Michelle Jackson.pdf OK\n",
      "Downloadaded WHB: 90-20283 The Julien Company.pdf OK\n",
      "Downloadaded JDL: 19-27019-L Johnnie Raymond Candy 19-00262.pdf OK\n",
      "Downloadaded GHB: 96-10742 Terry Hall Armstrong.pdf OK\n",
      "Downloadaded WHB: 03-41991 Earline Jones, 04-22034 Williw Sinclair, 04-21794 Barbara Ann Anderson.pdf OK\n",
      "Downloadaded TNWB :: Judge Latta.pdf OK\n",
      "Downloadaded JDL: 02-23450 John Franklin Copper.pdf OK\n"
     ]
    }
   ],
   "source": [
    "#For downloading the pdfs\n",
    "\n",
    "for case in cases:\n",
    "    url = case[\"case_url\"]\n",
    "    filename = f\"{case[\"case_name\"]}.pdf\"\n",
    "    \n",
    "    response = requests.get(url)\n",
    "    with open(filename, 'wb') as f:\n",
    "            f.write(response.content)\n",
    "\n",
    "    print(f\"Downloadaded {filename} OK\")"
   ]
  },
  {
   "cell_type": "code",
   "execution_count": null,
   "id": "9b663bfb-aed5-4f20-8046-9ad1e38b3f44",
   "metadata": {},
   "outputs": [],
   "source": []
  }
 ],
 "metadata": {
  "kernelspec": {
   "display_name": "Python 3 (ipykernel)",
   "language": "python",
   "name": "python3"
  },
  "language_info": {
   "codemirror_mode": {
    "name": "ipython",
    "version": 3
   },
   "file_extension": ".py",
   "mimetype": "text/x-python",
   "name": "python",
   "nbconvert_exporter": "python",
   "pygments_lexer": "ipython3",
   "version": "3.12.10"
  }
 },
 "nbformat": 4,
 "nbformat_minor": 5
}
