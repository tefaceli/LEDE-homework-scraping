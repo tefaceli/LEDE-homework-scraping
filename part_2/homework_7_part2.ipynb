{
 "cells": [
  {
   "cell_type": "markdown",
   "id": "27a3e281-7432-4e2a-963b-6ff06cc9bc56",
   "metadata": {},
   "source": [
    "# Homework 7: Scraping part 2"
   ]
  },
  {
   "cell_type": "markdown",
   "id": "abf4678d-3c70-4d60-ba66-8a12fb527b0a",
   "metadata": {},
   "source": [
    "## Part Two\n",
    "\n",
    "Scrape the content of https://www.lemonde.fr/Links to an external site. and save it as a CSV.\n",
    "\n",
    "We want: titles, subhead, article URL, whether it's premium or not, byline, article type, image URL.\n",
    "\n",
    "- Bonus, if you want to get fancy:\n",
    "\n",
    "Make the CSV file auto-updating. Use this tutorial (videoLinks to an external site., textLinks to an external site.) but just ignore the visualization/datawrapper aspect\n"
   ]
  },
  {
   "cell_type": "code",
   "execution_count": 1,
   "id": "50581954-66c7-4fb6-968d-adfb3529301b",
   "metadata": {},
   "outputs": [],
   "source": [
    "import pandas as pd"
   ]
  },
  {
   "cell_type": "code",
   "execution_count": 2,
   "id": "15406179-3361-4122-9ffe-114a5fb94e13",
   "metadata": {},
   "outputs": [],
   "source": [
    "from bs4 import BeautifulSoup\n",
    "import requests\n",
    "url=\"https://www.lemonde.fr/en/\"\n",
    "\n",
    "response = requests.get(url)\n",
    "doc = BeautifulSoup(response.text)"
   ]
  },
  {
   "cell_type": "code",
   "execution_count": 3,
   "id": "497be233-7dbc-434b-a135-b8492394d44e",
   "metadata": {},
   "outputs": [],
   "source": [
    "items = doc.find_all(class_=\"article\")"
   ]
  },
  {
   "cell_type": "code",
   "execution_count": 4,
   "id": "e0a833ea-f3b8-4a41-8792-29942e101343",
   "metadata": {},
   "outputs": [
    {
     "data": {
      "text/plain": [
       "53"
      ]
     },
     "execution_count": 4,
     "metadata": {},
     "output_type": "execute_result"
    }
   ],
   "source": [
    "len(items)"
   ]
  },
  {
   "cell_type": "code",
   "execution_count": 5,
   "id": "ecd7b525-484a-4898-96a1-526f0be8c2b0",
   "metadata": {},
   "outputs": [
    {
     "data": {
      "text/plain": [
       "<a class=\"article article--nav\" data-suggestion=\"\" href=\"https://www.lemonde.fr/en/international/article/2025/06/13/israel-launches-massive-lightning-attack-on-iran_6742310_4.html\"> <div class=\"article__media-container\"> <picture class=\"article__media\"> <img alt=\"A damaged building after Israeli strikes in Tehran, Iran, on June 13, 2025.\" class=\"teaser__media teaser__media--nav js-media-nav\" data-lazy=\"https://img.lemde.fr/2025/06/13/0/0/8640/5760/180/0/95/0/e15292d_upload-1-hhjo8hlmhqck-421634.jpg\" data-lazy-retina=\"https://img.lemde.fr/2025/06/13/0/0/8640/5760/360/0/95/0/e15292d_upload-1-hhjo8hlmhqck-421634.jpg 2x\" height=\"120\" width=\"180\"/> <noscript><img alt=\"A damaged building after Israeli strikes in Tehran, Iran, on June 13, 2025.\" height=\"120\" src=\"https://img.lemde.fr/2025/06/13/0/0/8640/5760/180/0/95/0/e15292d_upload-1-hhjo8hlmhqck-421634.jpg\" srcset=\"https://img.lemde.fr/2025/06/13/0/0/8640/5760/360/0/95/0/e15292d_upload-1-hhjo8hlmhqck-421634.jpg 2x\" width=\"180\"/></noscript> </picture> </div> <div class=\"article__kicker\">World</div> <span class=\"icon__premium icon--outside-simple\"> <span class=\"sr-only\">Subscribers only</span> </span><p class=\"article__title\">Israel launches massive lightning attack on Iran</p> </a>"
      ]
     },
     "execution_count": 5,
     "metadata": {},
     "output_type": "execute_result"
    }
   ],
   "source": [
    "items[0]"
   ]
  },
  {
   "cell_type": "code",
   "execution_count": 6,
   "id": "719f6520-fb45-49a3-9872-88519fba878c",
   "metadata": {},
   "outputs": [
    {
     "data": {
      "text/plain": [
       "53"
      ]
     },
     "execution_count": 6,
     "metadata": {},
     "output_type": "execute_result"
    }
   ],
   "source": [
    "rows = []\n",
    "\n",
    "for item in items:\n",
    "    row = {}\n",
    "\n",
    "    #Title\n",
    "    try:\n",
    "        row[\"title\"] = item.find(class_=\"article__title-label\").text\n",
    "    except:\n",
    "        row[\"title\"] = item.find(class_=\"article__title\").text\n",
    "\n",
    "    #Subhead\n",
    "    try:\n",
    "        row[\"subhead\"] = item.find(class_=\"article__desc\").text\n",
    "    except:\n",
    "        row[\"subhead\"] = 0\n",
    "\n",
    "    #URL\n",
    "    try:\n",
    "        row[\"url\"] = item.find(\"a\")[\"href\"]\n",
    "    except:\n",
    "        row[\"url\"] = item.get(\"href\")\n",
    "\n",
    "    #Suscription\n",
    "    try:\n",
    "        row[\"suscription\"] = item.find(class_=\"sr-only\").text\n",
    "    except:\n",
    "        row[\"suscription\"] = \"Not premium\"\n",
    "\n",
    "    #Article type\n",
    "    try:\n",
    "        row[\"article_type\"] = item.find(class_=\"article__type\")\n",
    "    except:\n",
    "        pass\n",
    "\n",
    "    rows.append(row)\n",
    "\n",
    "len(rows)"
   ]
  },
  {
   "cell_type": "code",
   "execution_count": 7,
   "id": "9333a53d-eac3-4fa8-9f85-c04eeda6038a",
   "metadata": {},
   "outputs": [
    {
     "data": {
      "text/plain": [
       "{'title': 'Israel launches massive lightning attack on Iran',\n",
       " 'subhead': 0,\n",
       " 'url': 'https://www.lemonde.fr/en/international/article/2025/06/13/israel-launches-massive-lightning-attack-on-iran_6742310_4.html',\n",
       " 'suscription': 'Subscribers only',\n",
       " 'article_type': None}"
      ]
     },
     "execution_count": 7,
     "metadata": {},
     "output_type": "execute_result"
    }
   ],
   "source": [
    "rows[0]"
   ]
  },
  {
   "cell_type": "code",
   "execution_count": 8,
   "id": "02bec149-499f-46fb-a950-43b59cbaad29",
   "metadata": {},
   "outputs": [],
   "source": [
    "#Now for each news article\n",
    "\n",
    "url = \"https://www.lemonde.fr/en/international/article/2025/06/11/aragon-and-catalonia-battle-over-the-sistine-chapel-of-romanesque-art_6742260_4.html\"\n",
    "\n",
    "response = requests.get(url)\n",
    "doc = BeautifulSoup(response.text)"
   ]
  },
  {
   "cell_type": "code",
   "execution_count": 9,
   "id": "88d355d9-44e8-4ae7-a186-32ad15048328",
   "metadata": {},
   "outputs": [
    {
     "name": "stdout",
     "output_type": "stream",
     "text": [
      "  By Sandrine Morel (Madrid (Spain) special correspondent) \n"
     ]
    }
   ],
   "source": [
    "print(doc.find(class_=\"meta__author\").text)"
   ]
  },
  {
   "cell_type": "code",
   "execution_count": 10,
   "id": "1d5e8e5f-a0c1-407e-8b14-6b0f79646213",
   "metadata": {},
   "outputs": [
    {
     "data": {
      "text/plain": [
       "53"
      ]
     },
     "execution_count": 10,
     "metadata": {},
     "output_type": "execute_result"
    }
   ],
   "source": [
    "articles_info = []\n",
    "\n",
    "for row in rows:\n",
    "    article_info = {}\n",
    "    article_url = row[\"url\"]\n",
    "\n",
    "    response = requests.get(article_url)\n",
    "    doc = BeautifulSoup(response.text)\n",
    "\n",
    "    #Byline\n",
    "    try:\n",
    "        article_info[\"byline\"] = doc.find(class_=\"meta__authors\").text\n",
    "    except:\n",
    "        try:\n",
    "            article_info[\"byline\"] = doc.find(class_=\"meta__author\").text\n",
    "        except:\n",
    "            try:\n",
    "                article_info[\"byline\"] = doc.find(class_=\"article__author-identity\").text\n",
    "            except:\n",
    "                article_info[\"byline\"] = \"No byline\"\n",
    "\n",
    "    #Image\n",
    "    article_info[\"img_url\"] = doc.find(\"img\").get(\"data-lazy-retina\")\n",
    "\n",
    "    articles_info.append(article_info)\n",
    "\n",
    "len(articles_info)"
   ]
  },
  {
   "cell_type": "code",
   "execution_count": 11,
   "id": "467f7481-775f-4f2a-bcbf-b0e2b7f6875a",
   "metadata": {},
   "outputs": [
    {
     "data": {
      "text/plain": [
       "{'byline': ' By\\xa0Samuel Forey\\xa0(Jerusalem, correspondent) and Ghazal Golshiri ',\n",
       " 'img_url': 'https://img.lemde.fr/2025/06/13/0/0/8640/5760/360/0/95/0/e15292d_upload-1-hhjo8hlmhqck-421634.jpg 2x'}"
      ]
     },
     "execution_count": 11,
     "metadata": {},
     "output_type": "execute_result"
    }
   ],
   "source": [
    "articles_info[0]"
   ]
  },
  {
   "cell_type": "code",
   "execution_count": 12,
   "id": "d9059db6-5c98-4fa6-a8b6-b0360c274aec",
   "metadata": {},
   "outputs": [
    {
     "data": {
      "text/plain": [
       "53"
      ]
     },
     "execution_count": 12,
     "metadata": {},
     "output_type": "execute_result"
    }
   ],
   "source": [
    "#Now nesting one inside another to get a new df\n",
    "rows = []\n",
    "\n",
    "for item in items:\n",
    "    row = {}\n",
    "\n",
    "    #Title\n",
    "    try:\n",
    "        row[\"title\"] = item.find(class_=\"article__title-label\").text\n",
    "    except:\n",
    "        row[\"title\"] = item.find(class_=\"article__title\").text\n",
    "\n",
    "    #Subhead\n",
    "    try:\n",
    "        row[\"subhead\"] = item.find(class_=\"article__desc\").text\n",
    "    except:\n",
    "        row[\"subhead\"] = 0\n",
    "\n",
    "    #URL\n",
    "    try:\n",
    "        row[\"url\"] = item.find(\"a\")[\"href\"]\n",
    "    except:\n",
    "        row[\"url\"] = item.get(\"href\")\n",
    "\n",
    "    #Suscription\n",
    "    try:\n",
    "        row[\"suscription\"] = item.find(class_=\"sr-only\").text\n",
    "    except:\n",
    "        row[\"suscription\"] = \"Not premium\"\n",
    "\n",
    "    #Article type\n",
    "    try:\n",
    "        row[\"article_type\"] = item.find(class_=\"article__type\").text\n",
    "    except:\n",
    "        pass\n",
    "\n",
    "    #Info for each article\n",
    "    article_url = row[\"url\"]\n",
    "    response = requests.get(article_url)\n",
    "    doc = BeautifulSoup(response.text)\n",
    "\n",
    "    #Byline\n",
    "    try:\n",
    "        row[\"byline\"] = doc.find(class_=\"meta__authors\").text\n",
    "    except:\n",
    "        try:\n",
    "            row[\"byline\"] = doc.find(class_=\"meta__author\").text\n",
    "        except:\n",
    "            try:\n",
    "                row[\"byline\"] = doc.find(class_=\"article__author-identity\").text\n",
    "            except:\n",
    "                row[\"byline\"] = \"No byline\"\n",
    "\n",
    "    #Image\n",
    "    row[\"img_url\"] = doc.find(\"img\").get(\"data-lazy-retina\")\n",
    "\n",
    "    rows.append(row)\n",
    "\n",
    "len(rows)"
   ]
  },
  {
   "cell_type": "code",
   "execution_count": 13,
   "id": "941f4c71-dffc-4c6b-8e76-ca04806f2126",
   "metadata": {},
   "outputs": [
    {
     "data": {
      "text/plain": [
       "{'title': \"Los Angeles: Donald Trump's calculated escalation\",\n",
       " 'subhead': 0,\n",
       " 'url': 'https://www.lemonde.fr/en/opinion/article/2025/06/10/los-angeles-donald-trump-s-calculated-escalation_6742196_23.html',\n",
       " 'suscription': 'Not premium',\n",
       " 'article_type': 'Editorial',\n",
       " 'byline': 'Le Monde',\n",
       " 'img_url': 'https://img.lemde.fr/2025/06/13/0/0/8640/5760/360/0/95/0/e15292d_upload-1-hhjo8hlmhqck-421634.jpg 2x'}"
      ]
     },
     "execution_count": 13,
     "metadata": {},
     "output_type": "execute_result"
    }
   ],
   "source": [
    "rows[-1]"
   ]
  },
  {
   "cell_type": "code",
   "execution_count": 14,
   "id": "04446e57-9400-46c5-98bf-c2b6b0f509da",
   "metadata": {},
   "outputs": [],
   "source": [
    "df = pd.json_normalize(rows)"
   ]
  },
  {
   "cell_type": "code",
   "execution_count": 15,
   "id": "a74916c5-066b-44c6-9643-04588eaa3ada",
   "metadata": {},
   "outputs": [
    {
     "data": {
      "text/html": [
       "<div>\n",
       "<style scoped>\n",
       "    .dataframe tbody tr th:only-of-type {\n",
       "        vertical-align: middle;\n",
       "    }\n",
       "\n",
       "    .dataframe tbody tr th {\n",
       "        vertical-align: top;\n",
       "    }\n",
       "\n",
       "    .dataframe thead th {\n",
       "        text-align: right;\n",
       "    }\n",
       "</style>\n",
       "<table border=\"1\" class=\"dataframe\">\n",
       "  <thead>\n",
       "    <tr style=\"text-align: right;\">\n",
       "      <th></th>\n",
       "      <th>title</th>\n",
       "      <th>subhead</th>\n",
       "      <th>url</th>\n",
       "      <th>suscription</th>\n",
       "      <th>byline</th>\n",
       "      <th>img_url</th>\n",
       "      <th>article_type</th>\n",
       "    </tr>\n",
       "  </thead>\n",
       "  <tbody>\n",
       "    <tr>\n",
       "      <th>0</th>\n",
       "      <td>Israel launches massive lightning attack on Iran</td>\n",
       "      <td>0</td>\n",
       "      <td>https://www.lemonde.fr/en/international/articl...</td>\n",
       "      <td>Subscribers only</td>\n",
       "      <td>By Samuel Forey (Jerusalem, correspondent) an...</td>\n",
       "      <td>https://img.lemde.fr/2025/06/13/0/0/8640/5760/...</td>\n",
       "      <td>NaN</td>\n",
       "    </tr>\n",
       "    <tr>\n",
       "      <th>1</th>\n",
       "      <td>As Israel strikes Iran, US pointedly steps bac...</td>\n",
       "      <td>0</td>\n",
       "      <td>https://www.lemonde.fr/en/international/articl...</td>\n",
       "      <td>Subscribers only</td>\n",
       "      <td>By Piotr Smolar (Washington (United States) ...</td>\n",
       "      <td>https://img.lemde.fr/2025/06/13/0/0/8640/5760/...</td>\n",
       "      <td>NaN</td>\n",
       "    </tr>\n",
       "    <tr>\n",
       "      <th>2</th>\n",
       "      <td>Federal judge rules Trump's deployment of Nati...</td>\n",
       "      <td>0</td>\n",
       "      <td>https://www.lemonde.fr/en/international/articl...</td>\n",
       "      <td>Subscribers only</td>\n",
       "      <td>By Corine Lesnes (Los Angeles, special corre...</td>\n",
       "      <td>https://img.lemde.fr/2025/06/13/0/0/8640/5760/...</td>\n",
       "      <td>NaN</td>\n",
       "    </tr>\n",
       "    <tr>\n",
       "      <th>3</th>\n",
       "      <td>War in Ukraine: Russia steps up its offensive ...</td>\n",
       "      <td>0</td>\n",
       "      <td>https://www.lemonde.fr/en/international/articl...</td>\n",
       "      <td>Subscribers only</td>\n",
       "      <td>By Emmanuel Grynszpan</td>\n",
       "      <td>https://img.lemde.fr/2025/06/13/0/0/8640/5760/...</td>\n",
       "      <td>NaN</td>\n",
       "    </tr>\n",
       "    <tr>\n",
       "      <th>4</th>\n",
       "      <td>Criticism is mounting in the Netherlands again...</td>\n",
       "      <td>0</td>\n",
       "      <td>https://www.lemonde.fr/en/international/articl...</td>\n",
       "      <td>Subscribers only</td>\n",
       "      <td>By Jean-Pierre Stroobants (The Hague (Nether...</td>\n",
       "      <td>https://img.lemde.fr/2025/06/13/0/0/8640/5760/...</td>\n",
       "      <td>NaN</td>\n",
       "    </tr>\n",
       "  </tbody>\n",
       "</table>\n",
       "</div>"
      ],
      "text/plain": [
       "                                               title subhead  \\\n",
       "0   Israel launches massive lightning attack on Iran       0   \n",
       "1  As Israel strikes Iran, US pointedly steps bac...       0   \n",
       "2  Federal judge rules Trump's deployment of Nati...       0   \n",
       "3  War in Ukraine: Russia steps up its offensive ...       0   \n",
       "4  Criticism is mounting in the Netherlands again...       0   \n",
       "\n",
       "                                                 url       suscription  \\\n",
       "0  https://www.lemonde.fr/en/international/articl...  Subscribers only   \n",
       "1  https://www.lemonde.fr/en/international/articl...  Subscribers only   \n",
       "2  https://www.lemonde.fr/en/international/articl...  Subscribers only   \n",
       "3  https://www.lemonde.fr/en/international/articl...  Subscribers only   \n",
       "4  https://www.lemonde.fr/en/international/articl...  Subscribers only   \n",
       "\n",
       "                                              byline  \\\n",
       "0   By Samuel Forey (Jerusalem, correspondent) an...   \n",
       "1    By Piotr Smolar (Washington (United States) ...   \n",
       "2    By Corine Lesnes (Los Angeles, special corre...   \n",
       "3                             By Emmanuel Grynszpan    \n",
       "4    By Jean-Pierre Stroobants (The Hague (Nether...   \n",
       "\n",
       "                                             img_url article_type  \n",
       "0  https://img.lemde.fr/2025/06/13/0/0/8640/5760/...          NaN  \n",
       "1  https://img.lemde.fr/2025/06/13/0/0/8640/5760/...          NaN  \n",
       "2  https://img.lemde.fr/2025/06/13/0/0/8640/5760/...          NaN  \n",
       "3  https://img.lemde.fr/2025/06/13/0/0/8640/5760/...          NaN  \n",
       "4  https://img.lemde.fr/2025/06/13/0/0/8640/5760/...          NaN  "
      ]
     },
     "execution_count": 15,
     "metadata": {},
     "output_type": "execute_result"
    }
   ],
   "source": [
    "df.head()"
   ]
  },
  {
   "cell_type": "code",
   "execution_count": 17,
   "id": "cd7908e8-cd1f-4e77-adbc-f025489f8f75",
   "metadata": {},
   "outputs": [],
   "source": [
    "df.to_csv(\"le_monde.csv\", index=False)"
   ]
  },
  {
   "cell_type": "code",
   "execution_count": null,
   "id": "889febd6-942c-476c-86c5-b646954e38fd",
   "metadata": {},
   "outputs": [],
   "source": []
  }
 ],
 "metadata": {
  "kernelspec": {
   "display_name": "Python 3 (ipykernel)",
   "language": "python",
   "name": "python3"
  },
  "language_info": {
   "codemirror_mode": {
    "name": "ipython",
    "version": 3
   },
   "file_extension": ".py",
   "mimetype": "text/x-python",
   "name": "python",
   "nbconvert_exporter": "python",
   "pygments_lexer": "ipython3",
   "version": "3.12.10"
  }
 },
 "nbformat": 4,
 "nbformat_minor": 5
}
